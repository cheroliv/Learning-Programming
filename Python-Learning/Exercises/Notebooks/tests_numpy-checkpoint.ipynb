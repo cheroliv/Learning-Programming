{
 "cells": [
  {
   "cell_type": "markdown",
   "id": "20c11129-dc0c-416b-ba77-d6471f5d6443",
   "metadata": {},
   "source": [
    "### Auteur : Charles T."
   ]
  },
  {
   "cell_type": "markdown",
   "id": "7b4860f9-7a99-4282-aba6-a2fc955c9458",
   "metadata": {},
   "source": [
    "### Tests Numpy"
   ]
  },
  {
   "cell_type": "code",
   "execution_count": 1,
   "id": "76b0d8b4-aed8-4d3c-b259-9eb37956f7ff",
   "metadata": {},
   "outputs": [],
   "source": [
    "import numpy as np"
   ]
  },
  {
   "cell_type": "code",
   "execution_count": 2,
   "id": "309d2753-9cb1-4415-b2ad-2ce0bbb0f7f7",
   "metadata": {},
   "outputs": [
    {
     "name": "stdout",
     "output_type": "stream",
     "text": [
      "Matrice A\n",
      "\n",
      "[[1 2]\n",
      " [3 4]]\n",
      "\n",
      "Dimension de A: 2\n",
      "Forme of A: (2, 2)\n",
      "\n"
     ]
    }
   ],
   "source": [
    "A = np.array(([1, 2], [3, 4]))\n",
    "print('Matrice A\\n\\n{0}\\n'.format(A))\n",
    "print('Dimension de A: {0}\\nForme of A: {1}\\n'.format(A.ndim, A.shape))"
   ]
  },
  {
   "cell_type": "code",
   "execution_count": 3,
   "id": "45b708a0-0e6b-442d-86cb-63cf326dcb25",
   "metadata": {},
   "outputs": [
    {
     "name": "stdout",
     "output_type": "stream",
     "text": [
      "Matrice B\n",
      "\n",
      "[[4 1]\n",
      " [0 4]]\n",
      "\n"
     ]
    }
   ],
   "source": [
    "B = np.random.randint(0, 5, size=(2, 2), dtype=np.uint8)\n",
    "print('Matrice B\\n\\n{0}\\n'.format(B))"
   ]
  },
  {
   "cell_type": "code",
   "execution_count": 4,
   "id": "f90bf8f3-6768-4815-bf10-d674988366db",
   "metadata": {},
   "outputs": [
    {
     "name": "stdout",
     "output_type": "stream",
     "text": [
      "Matrice C\n",
      "\n",
      "[[1.]\n",
      " [1.]\n",
      " [1.]]\n",
      "\n"
     ]
    }
   ],
   "source": [
    "C = np.ones((3, 1))\n",
    "print('Matrice C\\n\\n{0}\\n'.format(C))"
   ]
  },
  {
   "cell_type": "code",
   "execution_count": 5,
   "id": "54cf5133-f18f-4cef-8d46-e70accad7f13",
   "metadata": {},
   "outputs": [
    {
     "name": "stdout",
     "output_type": "stream",
     "text": [
      "[ 0  2  5  7 10]\n",
      "\n",
      "Forme de X1: (5,)\n",
      "\n",
      "[[ 0]\n",
      " [ 2]\n",
      " [ 5]\n",
      " [ 7]\n",
      " [10]]\n",
      "\n",
      "Forme X1: (5, 1)\n",
      "\n"
     ]
    }
   ],
   "source": [
    "X1 = np.linspace(0, 10, 5, dtype=np.int64)\n",
    "print('{0}\\n\\nForme de X1: {1}\\n'.format(X1, X1.shape))\n",
    "X1 = X1.reshape(X1.shape[0], 1)\n",
    "print('{0}\\n\\nForme X1: {1}\\n'.format(X1, X1.shape))"
   ]
  },
  {
   "cell_type": "code",
   "execution_count": 6,
   "id": "0431a6e2-2419-4a9e-84f2-062fc6c7f9f0",
   "metadata": {},
   "outputs": [
    {
     "name": "stdout",
     "output_type": "stream",
     "text": [
      "[-10  -8  -6  -4  -2   0   2   4   6   8  10]\n",
      "\n",
      "Forme de X2: (11,)\n",
      "\n"
     ]
    }
   ],
   "source": [
    "X2 = np.arange(-10, 11, 2)\n",
    "print('{0}\\n\\nForme de X2: {1}\\n'.format(X2, X2.shape))"
   ]
  },
  {
   "cell_type": "code",
   "execution_count": 7,
   "id": "b35f1262-202f-480f-8582-a846b5c1a310",
   "metadata": {},
   "outputs": [
    {
     "name": "stdout",
     "output_type": "stream",
     "text": [
      "Matrice AB\n",
      "\n",
      "[[1 2 4 1]\n",
      " [3 4 0 4]]\n",
      "\n",
      "Matrice AB\n",
      "\n",
      "[[1 2]\n",
      " [4 1]\n",
      " [3 4]\n",
      " [0 4]]\n"
     ]
    }
   ],
   "source": [
    "AB = np.concatenate((A, B), axis=1)\n",
    "print('Matrice AB\\n\\n{0}\\n'.format(AB))\n",
    "AB = AB.reshape(4, 2)\n",
    "print('Matrice AB\\n\\n{0}'.format(AB))"
   ]
  },
  {
   "cell_type": "code",
   "execution_count": 8,
   "id": "4c607e7a-be24-4331-8183-9e17485b8196",
   "metadata": {},
   "outputs": [
    {
     "name": "stdout",
     "output_type": "stream",
     "text": [
      "Algèbre linéaire et Numpy\n",
      "\n",
      "A + B           :\n",
      "\n",
      " [[5 3]\n",
      " [3 8]]\n",
      "\n",
      "A * B           :\n",
      "\n",
      " [[ 4  9]\n",
      " [12 19]]\n",
      "\n",
      "Transposée de A :\n",
      "\n",
      " [[1 3]\n",
      " [2 4]]\n",
      "\n",
      "Inverse de A    :\n",
      "\n",
      " [[-2.   1. ]\n",
      " [ 1.5 -0.5]]\n",
      "\n",
      "Déterminant de A:\n",
      "\n",
      " -2.0000000000000004\n",
      "\n"
     ]
    }
   ],
   "source": [
    "print('Algèbre linéaire et Numpy\\n')\n",
    "\n",
    "print('A + B           :\\n\\n {0}\\n'.format(A + B))\n",
    "print('A * B           :\\n\\n {0}\\n'.format(A.dot(B)))\n",
    "print('Transposée de A :\\n\\n {0}\\n'.format(np.transpose(A)))\n",
    "print('Inverse de A    :\\n\\n {0}\\n'.format(np.linalg.inv(A)))\n",
    "print('Déterminant de A:\\n\\n {0}\\n'.format(np.linalg.det(A)))"
   ]
  },
  {
   "cell_type": "code",
   "execution_count": 9,
   "id": "d7004c60-9b3b-4e5d-adcf-db04d12ffcc0",
   "metadata": {},
   "outputs": [
    {
     "name": "stdout",
     "output_type": "stream",
     "text": [
      "Statistiques et Numpy\n",
      "\n",
      "Matrice S\n",
      "[3 8 9 7 6 5 4 2 1]\n",
      "\n",
      "Matrice S\n",
      "[[3 8 9]\n",
      " [7 6 5]\n",
      " [4 2 1]]\n",
      "\n",
      "Somme des colonnes : [14 16 15]\n",
      "\n",
      "Produit des éléments de S : 362880\n",
      "\n",
      "Valeurs maximales sur les lignes : [9 7 4]\n",
      "\n",
      "Indice des maximums sur les lignes : [2 0 0]\n",
      "\n",
      "Valeurs maximales sur les colonnes : [7 8 9]\n",
      "\n",
      "Indice des maximums sur les colonnes : [1 0 0]\n",
      "\n",
      "Produit des éléments de S : 362880\n",
      "\n",
      "Moyenne de la matrice : 5.0\n",
      "\n",
      "Variance de la matrice : 6.666666666666667\n",
      "\n",
      "Matrice de corrélation :\n",
      "\n",
      " [[ 1.         -0.93325653 -0.98432414]\n",
      " [-0.93325653  1.          0.98198051]\n",
      " [-0.98432414  0.98198051  1.        ]]\n",
      "\n"
     ]
    }
   ],
   "source": [
    "print('Statistiques et Numpy\\n')\n",
    "\n",
    "S = np.array([3, 8, 9, 7, 6, 5, 4, 2, 1])\n",
    "print('Matrice S\\n{0}'.format(S))\n",
    "S = S.reshape(3, 3)\n",
    "print('\\nMatrice S\\n{0}'.format(S))\n",
    "\n",
    "print('\\nSomme des colonnes : {0}\\n'.format(S.sum(axis=0)))\n",
    "print('Produit des éléments de S : {0}\\n'.format(S.prod()))\n",
    "print('Valeurs maximales sur les lignes : {0}\\n'.format(S.max(axis=1)))\n",
    "print('Indice des maximums sur les lignes : {0}\\n'.format(S.argmax(axis=1)))\n",
    "print('Valeurs maximales sur les colonnes : {0}\\n'.format(S.max(axis=0)))\n",
    "print('Indice des maximums sur les colonnes : {0}\\n'.format(S.argmax(axis=0)))\n",
    "print('Produit des éléments de S : {0}\\n'.format(S.prod()))\n",
    "print('Moyenne de la matrice : {0}\\n'.format(S.mean()))\n",
    "print('Variance de la matrice : {0}\\n'.format(S.var()))\n",
    "print('Matrice de corrélation :\\n\\n {0}\\n'.format(np.corrcoef(S)))"
   ]
  },
  {
   "cell_type": "code",
   "execution_count": null,
   "id": "4efbbedc-87e6-4deb-b12f-3f6cd8d98b16",
   "metadata": {},
   "outputs": [],
   "source": []
  }
 ],
 "metadata": {
  "kernelspec": {
   "display_name": "Python 3 (ipykernel)",
   "language": "python",
   "name": "python3"
  },
  "language_info": {
   "codemirror_mode": {
    "name": "ipython",
    "version": 3
   },
   "file_extension": ".py",
   "mimetype": "text/x-python",
   "name": "python",
   "nbconvert_exporter": "python",
   "pygments_lexer": "ipython3",
   "version": "3.9.13"
  }
 },
 "nbformat": 4,
 "nbformat_minor": 5
}
