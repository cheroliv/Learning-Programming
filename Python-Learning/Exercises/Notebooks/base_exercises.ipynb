{
 "cells": [
  {
   "cell_type": "markdown",
   "id": "844894bb-9ea8-4617-bf4d-63b3b258f975",
   "metadata": {},
   "source": [
    "### Exercices de base.\n",
    "### Auteur : Charles T."
   ]
  },
  {
   "cell_type": "code",
   "execution_count": 2,
   "id": "b36d5222-94e4-4de8-af98-4dbdc5395b7a",
   "metadata": {},
   "outputs": [],
   "source": [
    "import math\n",
    "import re"
   ]
  },
  {
   "cell_type": "markdown",
   "id": "cf5f2101-8f85-4be0-a905-3413388c15d5",
   "metadata": {},
   "source": [
    "### Fonction hello"
   ]
  },
  {
   "cell_type": "code",
   "execution_count": 3,
   "id": "5f0e1bd3-5829-467d-9e92-8084625e2e36",
   "metadata": {},
   "outputs": [],
   "source": [
    "def hello():\n",
    "    print(\"hello\")"
   ]
  },
  {
   "cell_type": "code",
   "execution_count": 4,
   "id": "4fa0bc8d-8722-482f-b28d-450f7a1bea58",
   "metadata": {},
   "outputs": [
    {
     "name": "stdout",
     "output_type": "stream",
     "text": [
      "hello\n"
     ]
    }
   ],
   "source": [
    "hello()"
   ]
  },
  {
   "cell_type": "markdown",
   "id": "15e0fe24-49ef-43c1-88ef-ac2a22bbc791",
   "metadata": {},
   "source": [
    "### Fonction displayNumbers"
   ]
  },
  {
   "cell_type": "code",
   "execution_count": 5,
   "id": "778550da-6d49-4291-b4bb-5eb1ad429f10",
   "metadata": {},
   "outputs": [],
   "source": [
    "def displayNumbers(limit):\n",
    "    for i in range(limit):\n",
    "        print(i, \" \", end=\"\")"
   ]
  },
  {
   "cell_type": "code",
   "execution_count": 6,
   "id": "6256efad-15c1-4d5c-812a-df3a4de6e129",
   "metadata": {},
   "outputs": [
    {
     "name": "stdout",
     "output_type": "stream",
     "text": [
      "0  1  2  3  4  5  6  7  8  9  10  11  12  13  14  15  16  17  18  19  "
     ]
    }
   ],
   "source": [
    "displayNumbers(20)"
   ]
  },
  {
   "cell_type": "markdown",
   "id": "70bfdffe-5830-4cea-a495-f4dbe1d7d0b7",
   "metadata": {},
   "source": [
    "### Fonction displayAlphabet"
   ]
  },
  {
   "cell_type": "code",
   "execution_count": 7,
   "id": "c237f6f7-b4f0-4896-8350-bc85ecca37a8",
   "metadata": {},
   "outputs": [],
   "source": [
    "def displayAlphabet():\n",
    "    letter = 'a'\n",
    "    for _ in range(26):\n",
    "        print(letter, end=\"\")\n",
    "        letter = chr(ord(letter) + 1)"
   ]
  },
  {
   "cell_type": "code",
   "execution_count": 8,
   "id": "80d1c22f-9b90-4e64-bd24-d7aba54ed432",
   "metadata": {},
   "outputs": [
    {
     "name": "stdout",
     "output_type": "stream",
     "text": [
      "abcdefghijklmnopqrstuvwxyz"
     ]
    }
   ],
   "source": [
    "displayAlphabet()"
   ]
  },
  {
   "cell_type": "markdown",
   "id": "480c9c0a-5a18-4c33-b4c0-efc3e9263136",
   "metadata": {},
   "source": [
    "### Fonction displayMultTables"
   ]
  },
  {
   "cell_type": "code",
   "execution_count": 9,
   "id": "286f5a6c-4c73-473a-b437-852c3fd291a2",
   "metadata": {},
   "outputs": [],
   "source": [
    "def displayMultTables(n):\n",
    "    for i in range(1, n):\n",
    "        for j in range(1, 11):\n",
    "            print(\"{:4}\".format(i * j), end=\"\")\n",
    "        print()"
   ]
  },
  {
   "cell_type": "code",
   "execution_count": 10,
   "id": "9fb83ee6-3c32-437b-8523-349b2ab8d950",
   "metadata": {},
   "outputs": [
    {
     "name": "stdout",
     "output_type": "stream",
     "text": [
      "   1   2   3   4   5   6   7   8   9  10\n",
      "   2   4   6   8  10  12  14  16  18  20\n",
      "   3   6   9  12  15  18  21  24  27  30\n",
      "   4   8  12  16  20  24  28  32  36  40\n",
      "   5  10  15  20  25  30  35  40  45  50\n",
      "   6  12  18  24  30  36  42  48  54  60\n",
      "   7  14  21  28  35  42  49  56  63  70\n",
      "   8  16  24  32  40  48  56  64  72  80\n",
      "   9  18  27  36  45  54  63  72  81  90\n"
     ]
    }
   ],
   "source": [
    "displayMultTables(10)"
   ]
  },
  {
   "cell_type": "markdown",
   "id": "d1d4e933-76c1-4ebd-82d3-d5ed34f62d96",
   "metadata": {
    "tags": []
   },
   "source": [
    "### Fonction maxVarargs"
   ]
  },
  {
   "cell_type": "code",
   "execution_count": 11,
   "id": "c3808010-da77-4ffd-b234-e3f3e6cdac05",
   "metadata": {},
   "outputs": [],
   "source": [
    "def maxVarargs(*integers):\n",
    "    return max(integers)"
   ]
  },
  {
   "cell_type": "code",
   "execution_count": 12,
   "id": "f158c27d-aa93-4aea-9a77-4fdb941cd76e",
   "metadata": {},
   "outputs": [
    {
     "data": {
      "text/plain": [
       "7"
      ]
     },
     "execution_count": 12,
     "metadata": {},
     "output_type": "execute_result"
    }
   ],
   "source": [
    "maxVarargs(1, 2, 7, 3)"
   ]
  },
  {
   "cell_type": "markdown",
   "id": "e65b6e60-dedf-484c-a804-24017ac0bd9e",
   "metadata": {},
   "source": [
    "### Fonction getMultipleNumber"
   ]
  },
  {
   "cell_type": "code",
   "execution_count": 13,
   "id": "7e11416a-b91c-4bb7-924b-391d1f3b8b5c",
   "metadata": {},
   "outputs": [],
   "source": [
    "def getMultipleNumber(n):\n",
    "    nb = math.nan\n",
    "\n",
    "    while (nb % n) != 0:\n",
    "        print(\"Give an integer:\")\n",
    "        nb = int(input())\n",
    "    print(\"Your number is: \", nb)"
   ]
  },
  {
   "cell_type": "code",
   "execution_count": 14,
   "id": "b5616ce4-28f5-4d31-b8e7-12d3f14d1362",
   "metadata": {},
   "outputs": [
    {
     "name": "stdout",
     "output_type": "stream",
     "text": [
      "Give an integer:\n"
     ]
    },
    {
     "name": "stdin",
     "output_type": "stream",
     "text": [
      " 24\n"
     ]
    },
    {
     "name": "stdout",
     "output_type": "stream",
     "text": [
      "Your number is:  24\n"
     ]
    }
   ],
   "source": [
    "getMultipleNumber(8)"
   ]
  },
  {
   "cell_type": "markdown",
   "id": "8356779e-8e45-47c9-9ec6-dcf8dc0ef5a8",
   "metadata": {},
   "source": [
    "### Fonction myAbs"
   ]
  },
  {
   "cell_type": "code",
   "execution_count": 15,
   "id": "476cfa92-ebf9-4320-9244-f90096f99f33",
   "metadata": {},
   "outputs": [],
   "source": [
    "def myAbs(n):\n",
    "    return -n if n < 0 else n"
   ]
  },
  {
   "cell_type": "code",
   "execution_count": 16,
   "id": "0f631a1b-471c-45dc-b51e-6a8886e9d04e",
   "metadata": {},
   "outputs": [
    {
     "data": {
      "text/plain": [
       "5"
      ]
     },
     "execution_count": 16,
     "metadata": {},
     "output_type": "execute_result"
    }
   ],
   "source": [
    "myAbs(-5)"
   ]
  },
  {
   "cell_type": "markdown",
   "id": "1625787d-fc79-4a8d-837b-f0c04cc1a47f",
   "metadata": {},
   "source": [
    "### Fonction factorial"
   ]
  },
  {
   "cell_type": "code",
   "execution_count": 17,
   "id": "ac66ee73-5a3f-4f85-990a-953a7aac6ff1",
   "metadata": {},
   "outputs": [],
   "source": [
    "def factorial(n, acc):\n",
    "    return acc if n < 2 else factorial(n - 1, n * acc)"
   ]
  },
  {
   "cell_type": "code",
   "execution_count": 18,
   "id": "5f602afe-7e99-44da-8e6f-ce4cca19a304",
   "metadata": {},
   "outputs": [
    {
     "data": {
      "text/plain": [
       "5040"
      ]
     },
     "execution_count": 18,
     "metadata": {},
     "output_type": "execute_result"
    }
   ],
   "source": [
    "factorial(7, 1)"
   ]
  },
  {
   "cell_type": "markdown",
   "id": "cdf5a628-b083-4099-91c5-e6c87e081994",
   "metadata": {},
   "source": [
    "### Fonction displayDigits"
   ]
  },
  {
   "cell_type": "code",
   "execution_count": 19,
   "id": "d23ad095-ca02-4449-9733-a816eb5f9121",
   "metadata": {},
   "outputs": [],
   "source": [
    "def displayDigits(n):\n",
    "    if n < 10:\n",
    "        print(n, end=\"\")\n",
    "    else:\n",
    "        displayDigits(n // 10)\n",
    "        print(n % 10, end=\"\")"
   ]
  },
  {
   "cell_type": "code",
   "execution_count": 20,
   "id": "fdf252eb-4416-4997-8309-4787929104fb",
   "metadata": {},
   "outputs": [
    {
     "name": "stdout",
     "output_type": "stream",
     "text": [
      "65535"
     ]
    }
   ],
   "source": [
    "displayDigits(65535)"
   ]
  },
  {
   "cell_type": "markdown",
   "id": "24879512-cccb-4c27-b4b7-a1d734e279eb",
   "metadata": {},
   "source": [
    "### Fonction displayFibonacci"
   ]
  },
  {
   "cell_type": "code",
   "execution_count": 21,
   "id": "173ea0f9-eaa1-46ef-9ef8-e646468414f2",
   "metadata": {},
   "outputs": [],
   "source": [
    "def displayFibonacci(n):\n",
    "    nb1  = 0\n",
    "    nb2  = 1\n",
    "    fibo = 0\n",
    "\n",
    "    for i in range(0, n):\n",
    "        if (i & 1) == 0:\n",
    "            print(nb1, nb2, end=\"\")\n",
    "        else:\n",
    "            print(\" \", end=\"\")\n",
    "        fibo = nb1 + nb2\n",
    "        nb1  = nb2\n",
    "        nb2  = fibo"
   ]
  },
  {
   "cell_type": "code",
   "execution_count": 22,
   "id": "ab6e13c7-0714-4e37-969b-ea7e82fc387c",
   "metadata": {},
   "outputs": [
    {
     "name": "stdout",
     "output_type": "stream",
     "text": [
      "0 1 1 2 3 5 8 13 21 34 "
     ]
    }
   ],
   "source": [
    "displayFibonacci(10)"
   ]
  },
  {
   "cell_type": "markdown",
   "id": "64ef94f9-9a69-43ba-af76-bfdb00a48e9d",
   "metadata": {},
   "source": [
    "### Fonction gcd"
   ]
  },
  {
   "cell_type": "code",
   "execution_count": 23,
   "id": "6e9f2b84-d9e2-42ad-9f20-691f6498ded4",
   "metadata": {},
   "outputs": [],
   "source": [
    "def gcd(a, b):\n",
    "    return a if (b == 0) else gcd(b, a % b)"
   ]
  },
  {
   "cell_type": "code",
   "execution_count": 24,
   "id": "a3cf535b-c9d5-4c4e-971c-09355aaccd82",
   "metadata": {},
   "outputs": [
    {
     "data": {
      "text/plain": [
       "4"
      ]
     },
     "execution_count": 24,
     "metadata": {},
     "output_type": "execute_result"
    }
   ],
   "source": [
    "gcd(28, 4294967296)"
   ]
  },
  {
   "cell_type": "markdown",
   "id": "2c8248f1-cb69-4958-be46-b2faa43745da",
   "metadata": {},
   "source": [
    "### Fonction displayPrimeFactors"
   ]
  },
  {
   "cell_type": "code",
   "execution_count": 25,
   "id": "5e599303-108c-4a3a-9317-6b2d459b07b1",
   "metadata": {},
   "outputs": [],
   "source": [
    "def displayPrimeFactors(n):\n",
    "    while (n & 1) == 0:\n",
    "        print(2, \" \", end=\"\")\n",
    "        n //= 2\n",
    "    for i in range(3, math.isqrt(n), 2):\n",
    "        while n % i == 0:\n",
    "            print(i, \" \", end=\"\")\n",
    "            n //= i\n",
    "    print(n if (n > 2) else \"\", end=\"\")"
   ]
  },
  {
   "cell_type": "code",
   "execution_count": 26,
   "id": "6bb684ac-4dce-4745-b491-6fc4bfbc1e6a",
   "metadata": {},
   "outputs": [
    {
     "name": "stdout",
     "output_type": "stream",
     "text": [
      "3  5  17  257"
     ]
    }
   ],
   "source": [
    "displayPrimeFactors(65535)"
   ]
  },
  {
   "cell_type": "markdown",
   "id": "1d8b07ce-d915-4575-abff-ce82912adb90",
   "metadata": {},
   "source": [
    "### Fonction quadraticEquation"
   ]
  },
  {
   "cell_type": "code",
   "execution_count": 27,
   "id": "9d769702-cc5e-4c06-8500-ef71b99e108f",
   "metadata": {},
   "outputs": [],
   "source": [
    "def quadraticEquation(a, b, c):\n",
    "    solutions    = [math.nan, math.nan]\n",
    "    discriminant = b * b - 4 * a * c\n",
    "\n",
    "    if discriminant == 0:\n",
    "        solutions[0] = -b / 2 * a\n",
    "    elif (discriminant > 0):\n",
    "        solutions[0] = (-b - math.sqrt(discriminant)) / (2 * a)\n",
    "        solutions[1] = (-b + math.sqrt(discriminant)) / (2 * a)\n",
    "    return solutions"
   ]
  },
  {
   "cell_type": "code",
   "execution_count": 28,
   "id": "6be18124-2dfd-4389-9b2c-03345c0ed323",
   "metadata": {},
   "outputs": [
    {
     "data": {
      "text/plain": [
       "[-0.6180339887498949, 1.618033988749895]"
      ]
     },
     "execution_count": 28,
     "metadata": {},
     "output_type": "execute_result"
    }
   ],
   "source": [
    "quadraticEquation(1, -1, -1)"
   ]
  },
  {
   "cell_type": "markdown",
   "id": "99e63fdf-ee20-438c-9d0b-8b9c47cf57dd",
   "metadata": {},
   "source": [
    "### Fonction isPerfectNumber"
   ]
  },
  {
   "cell_type": "code",
   "execution_count": 29,
   "id": "cd9f3b6a-187e-456a-b2e5-11596c5f2e98",
   "metadata": {},
   "outputs": [],
   "source": [
    "def perfectNumber(n):\n",
    "    res = 0\n",
    "\n",
    "    for i in range(1, n // 2 + 1):\n",
    "        res += i if (n % i) == 0 else 0\n",
    "    return res == n"
   ]
  },
  {
   "cell_type": "code",
   "execution_count": 30,
   "id": "a87005d5-3cf8-40c4-bc83-8f28703bcd9d",
   "metadata": {},
   "outputs": [
    {
     "data": {
      "text/plain": [
       "True"
      ]
     },
     "execution_count": 30,
     "metadata": {},
     "output_type": "execute_result"
    }
   ],
   "source": [
    "perfectNumber(33550336)"
   ]
  },
  {
   "cell_type": "markdown",
   "id": "03df3ad1-707a-4759-a592-31d4c49d60d6",
   "metadata": {},
   "source": [
    "### Fonction displayList"
   ]
  },
  {
   "cell_type": "code",
   "execution_count": 31,
   "id": "fc772d98-6992-4a3e-9eba-41279f3a5969",
   "metadata": {},
   "outputs": [],
   "source": [
    "def displayList(a_list):\n",
    "    print(a_list)"
   ]
  },
  {
   "cell_type": "code",
   "execution_count": 32,
   "id": "e012d846-0eaf-41b5-8a16-74140b0ff991",
   "metadata": {},
   "outputs": [
    {
     "name": "stdout",
     "output_type": "stream",
     "text": [
      "['Charles', 'Cindy', 'Maeva', 'Nirko']\n"
     ]
    }
   ],
   "source": [
    "displayList([\"Charles\", \"Cindy\", \"Maeva\", \"Nirko\"])"
   ]
  },
  {
   "cell_type": "markdown",
   "id": "984a05c7-d7ee-43a2-9f15-70bd40d51dd2",
   "metadata": {},
   "source": [
    "### Fonction sumList"
   ]
  },
  {
   "cell_type": "code",
   "execution_count": 33,
   "id": "227150f4-b961-482b-abd4-a7e8a921ef49",
   "metadata": {},
   "outputs": [],
   "source": [
    "def sumList(a_list):\n",
    "    return sum(a_list)"
   ]
  },
  {
   "cell_type": "code",
   "execution_count": 34,
   "id": "6f17b4e7-a6a4-4397-aa4a-c9027bfc3ee7",
   "metadata": {},
   "outputs": [
    {
     "data": {
      "text/plain": [
       "16"
      ]
     },
     "execution_count": 34,
     "metadata": {},
     "output_type": "execute_result"
    }
   ],
   "source": [
    "sumList([1, 3, 5, 7])"
   ]
  },
  {
   "cell_type": "markdown",
   "id": "654edffe-a24d-4207-a01c-2e3355c104a7",
   "metadata": {},
   "source": [
    "### Fonction maxList"
   ]
  },
  {
   "cell_type": "code",
   "execution_count": 35,
   "id": "f54430e5-db10-4343-bc04-69483d1a6c7d",
   "metadata": {},
   "outputs": [],
   "source": [
    "def maxList(a_list):\n",
    "    return max(a_list)"
   ]
  },
  {
   "cell_type": "markdown",
   "id": "f6664c57-de13-4bb3-a1f3-d281bf1ced57",
   "metadata": {},
   "source": [
    "### Fonction swapValuesList"
   ]
  },
  {
   "cell_type": "code",
   "execution_count": 36,
   "id": "72cce5da-3884-477d-a758-5bf9e61df8fc",
   "metadata": {},
   "outputs": [],
   "source": [
    "def swapValuesList(a_list, i, j):\n",
    "    a_list[i], a_list[j] = a_list[j], a_list[i]"
   ]
  },
  {
   "cell_type": "code",
   "execution_count": 37,
   "id": "27288d8e-5412-47c9-a068-5f993c2fc23c",
   "metadata": {},
   "outputs": [
    {
     "name": "stdout",
     "output_type": "stream",
     "text": [
      "[16, 22, 96, 42]\n"
     ]
    }
   ],
   "source": [
    "a_list = [16, 42, 96, 22]\n",
    "swapValuesList(a_list, 3, 1)\n",
    "print(a_list)"
   ]
  },
  {
   "cell_type": "markdown",
   "id": "1fdbd50c-72dc-4d7c-b298-18e826545807",
   "metadata": {},
   "source": [
    "### Fonction arrayOccurrences"
   ]
  },
  {
   "cell_type": "code",
   "execution_count": 38,
   "id": "9a139565-0c75-4bbc-969a-e40f407dd841",
   "metadata": {},
   "outputs": [],
   "source": [
    "def arrayOccurrences(tab, size):\n",
    "    tmp = [0] * size\n",
    "\n",
    "    for i in range(len(tab)):\n",
    "        tmp[tab[i]] += 1\n",
    "    for i in range(len(tmp)):\n",
    "        if tmp[i] != 0:\n",
    "            print(\"{:3} {:15} {:3}\".format(i, \" occurrence(s): \", tmp[i]))"
   ]
  },
  {
   "cell_type": "code",
   "execution_count": 39,
   "id": "accd0ef4-af70-4b61-8815-6715189fbc8e",
   "metadata": {},
   "outputs": [
    {
     "name": "stdout",
     "output_type": "stream",
     "text": [
      "  1  occurrence(s):    3\n",
      "  2  occurrence(s):    1\n",
      "  3  occurrence(s):    1\n",
      "  4  occurrence(s):    3\n",
      "  5  occurrence(s):    2\n",
      "  6  occurrence(s):    1\n",
      "  7  occurrence(s):    2\n",
      "  8  occurrence(s):    1\n",
      "  9  occurrence(s):    1\n",
      " 18  occurrence(s):    1\n"
     ]
    }
   ],
   "source": [
    "arrayOccurrences([2, 1, 3, 4, 4, 5, 6, 4, 7, 1, 8, 9, 5, 18, 7, 1], 19)"
   ]
  },
  {
   "cell_type": "markdown",
   "id": "5fd4df77-f5c3-4d8a-83df-e8231dbdfecf",
   "metadata": {
    "tags": []
   },
   "source": [
    "### Fonction countLetters"
   ]
  },
  {
   "cell_type": "code",
   "execution_count": 40,
   "id": "2a14d559-d7f5-4a62-8655-0d947cb9085a",
   "metadata": {},
   "outputs": [],
   "source": [
    "def countLetters(string, letter):\n",
    "    res = 0\n",
    "\n",
    "    for i in range(len(string)):\n",
    "        if string[i] == letter:\n",
    "            res += 1\n",
    "    return res"
   ]
  },
  {
   "cell_type": "code",
   "execution_count": 41,
   "id": "9e4aa786-1768-4d57-a836-f4ac430e7d7a",
   "metadata": {},
   "outputs": [
    {
     "data": {
      "text/plain": [
       "3"
      ]
     },
     "execution_count": 41,
     "metadata": {},
     "output_type": "execute_result"
    }
   ],
   "source": [
    "countLetters(\"saperlipopette\", \"e\")"
   ]
  },
  {
   "cell_type": "markdown",
   "id": "17eda774-5077-4112-a340-e5fb3c979213",
   "metadata": {},
   "source": [
    "### Fonction countVowels"
   ]
  },
  {
   "cell_type": "code",
   "execution_count": 42,
   "id": "2fce812b-a6a5-45bc-871f-735769fac336",
   "metadata": {},
   "outputs": [],
   "source": [
    "def countVowels(string):\n",
    "    return len(re.findall(r'[aeiou]', string, re.IGNORECASE))"
   ]
  },
  {
   "cell_type": "code",
   "execution_count": 43,
   "id": "553777b7-59a1-4008-8937-02950ec2d6cc",
   "metadata": {},
   "outputs": [
    {
     "data": {
      "text/plain": [
       "2"
      ]
     },
     "execution_count": 43,
     "metadata": {},
     "output_type": "execute_result"
    }
   ],
   "source": [
    "countVowels(\"Unknown\")"
   ]
  },
  {
   "cell_type": "markdown",
   "id": "76edfe14-3806-4d54-9a8c-1387564a766c",
   "metadata": {},
   "source": [
    "### Fonction convertToUpperCase"
   ]
  },
  {
   "cell_type": "code",
   "execution_count": 44,
   "id": "cc904876-bc23-45b1-b6e8-83cd2366d3a0",
   "metadata": {},
   "outputs": [],
   "source": [
    "def convertToUpperCase(string):\n",
    "    return string.upper()"
   ]
  },
  {
   "cell_type": "code",
   "execution_count": 45,
   "id": "b5e6cd29-93e5-4487-9c8d-4ad01f7bf230",
   "metadata": {},
   "outputs": [
    {
     "data": {
      "text/plain": [
       "'DÉESSE'"
      ]
     },
     "execution_count": 45,
     "metadata": {},
     "output_type": "execute_result"
    }
   ],
   "source": [
    "convertToUpperCase(\"déesse\")"
   ]
  },
  {
   "cell_type": "markdown",
   "id": "2a5fc901-c897-437a-942d-94214f8fda58",
   "metadata": {},
   "source": [
    "### Fonction containsUpperCase"
   ]
  },
  {
   "cell_type": "code",
   "execution_count": 46,
   "id": "0f767ec7-3334-483e-afa3-82e10309ca37",
   "metadata": {},
   "outputs": [],
   "source": [
    "def containsUpperCase(string):\n",
    "    return any(letter.isupper() for letter in string)"
   ]
  },
  {
   "cell_type": "code",
   "execution_count": 47,
   "id": "a9c75f7f-a85f-49ad-bc5e-dfc5ac04ae7d",
   "metadata": {},
   "outputs": [
    {
     "data": {
      "text/plain": [
       "True"
      ]
     },
     "execution_count": 47,
     "metadata": {},
     "output_type": "execute_result"
    }
   ],
   "source": [
    "containsUpperCase(\"oUrs\")"
   ]
  },
  {
   "cell_type": "markdown",
   "id": "f05094f1-f647-4b98-9313-78d38a14837b",
   "metadata": {},
   "source": [
    "### Fonction isInStr"
   ]
  },
  {
   "cell_type": "code",
   "execution_count": 48,
   "id": "ee08902d-8587-424d-88d5-bbf74dc59d3b",
   "metadata": {},
   "outputs": [],
   "source": [
    "def isInStr(src, word):\n",
    "    return {word in src}"
   ]
  },
  {
   "cell_type": "code",
   "execution_count": 49,
   "id": "71ce5e2d-6835-4772-88a4-ed4ccd87f9f4",
   "metadata": {},
   "outputs": [
    {
     "data": {
      "text/plain": [
       "{False}"
      ]
     },
     "execution_count": 49,
     "metadata": {},
     "output_type": "execute_result"
    }
   ],
   "source": [
    "isInStr(\"Le petit ours brun\", \"blanc\")"
   ]
  },
  {
   "cell_type": "markdown",
   "id": "fd9dd282-a968-4e4d-89a7-62b26c2041cd",
   "metadata": {},
   "source": [
    "### Fonction isPalindromeWord"
   ]
  },
  {
   "cell_type": "code",
   "execution_count": 50,
   "id": "b1292ab2-eabf-4e84-8b1a-0fe7bf9695cf",
   "metadata": {},
   "outputs": [],
   "source": [
    "def isPalindromeWord(string):\n",
    "    return string == string[::-1]"
   ]
  },
  {
   "cell_type": "code",
   "execution_count": 51,
   "id": "ff7e2d28-7673-4c81-a3d6-c99cf979dd79",
   "metadata": {},
   "outputs": [
    {
     "data": {
      "text/plain": [
       "True"
      ]
     },
     "execution_count": 51,
     "metadata": {},
     "output_type": "execute_result"
    }
   ],
   "source": [
    "isPalindromeWord(\"radar\")"
   ]
  },
  {
   "cell_type": "markdown",
   "id": "d68203ed-5b24-47ce-ba9f-ff1fcce1a078",
   "metadata": {},
   "source": [
    "### Fonction isPalindromeSentence"
   ]
  },
  {
   "cell_type": "code",
   "execution_count": 52,
   "id": "89d88ac0-1f20-4220-a9bd-7655eb721dd3",
   "metadata": {},
   "outputs": [],
   "source": [
    "def isPalindromeSentence(string, start, end):\n",
    "    if string[start] == ' ':\n",
    "        return isPalindromeSentence(string, start + 1, end)\n",
    "    elif string[end] == ' ':\n",
    "        return isPalindromeSentence(string, start, end - 1)\n",
    "    elif start >= end:\n",
    "        return True\n",
    "    elif string[start] != string[end]:\n",
    "        return False\n",
    "    else:\n",
    "        return isPalindromeSentence(string, start + 1, end - 1)"
   ]
  },
  {
   "cell_type": "code",
   "execution_count": 53,
   "id": "7601d86e-3235-4df9-8a63-c29a1153c198",
   "metadata": {},
   "outputs": [
    {
     "data": {
      "text/plain": [
       "True"
      ]
     },
     "execution_count": 53,
     "metadata": {},
     "output_type": "execute_result"
    }
   ],
   "source": [
    "isPalindromeSentence(\"engage le jeu que je le gagne\", 0, 28)"
   ]
  },
  {
   "cell_type": "markdown",
   "id": "3e0e8200-7d95-4254-8cf6-ffe981b2069b",
   "metadata": {},
   "source": [
    "### Fonction convertBase"
   ]
  },
  {
   "cell_type": "code",
   "execution_count": 54,
   "id": "9e7b16e1-4c78-4fb5-aa50-8ef10d59a40d",
   "metadata": {},
   "outputs": [],
   "source": [
    "def convertBase(n, base):\n",
    "    elements = \"0123456789ABCDEF\"\n",
    "    res      = \"\"\n",
    "\n",
    "    while n != 0:\n",
    "        res += (elements[n % base])\n",
    "        n   //= base\n",
    "    return res[::-1]"
   ]
  },
  {
   "cell_type": "code",
   "execution_count": 55,
   "id": "dfb1904e-c80e-441c-807d-57cc0c3c7ef5",
   "metadata": {},
   "outputs": [
    {
     "data": {
      "text/plain": [
       "'4704'"
      ]
     },
     "execution_count": 55,
     "metadata": {},
     "output_type": "execute_result"
    }
   ],
   "source": [
    "convertBase(2500, 8)"
   ]
  },
  {
   "cell_type": "markdown",
   "id": "9c1bf405-6b49-4a39-9200-903229c32c1d",
   "metadata": {},
   "source": [
    "### Fonction cesarCipher"
   ]
  },
  {
   "cell_type": "code",
   "execution_count": 56,
   "id": "1e2b58f0-a222-43cf-a4e3-2f146bca7596",
   "metadata": {},
   "outputs": [],
   "source": [
    "def cesarCipher(string, n):\n",
    "    res  = \"\"\n",
    "    keys = \"abcdefghijklmnopqrstuvwxyz\"\n",
    "    c    = 0\n",
    "\n",
    "    for i in range(len(string)):\n",
    "        c   = string[i]\n",
    "        res += keys[(ord(c) - 97 + n) % 26]\n",
    "    return res"
   ]
  },
  {
   "cell_type": "code",
   "execution_count": 57,
   "id": "b2fe4790-a091-4bcc-a22e-38b0c9e5896e",
   "metadata": {},
   "outputs": [
    {
     "data": {
      "text/plain": [
       "'efghijklmnopqrstuvwxyzabcd'"
      ]
     },
     "execution_count": 57,
     "metadata": {},
     "output_type": "execute_result"
    }
   ],
   "source": [
    "cesarCipher(\"abcdefghijklmnopqrstuvwxyz\", 4)"
   ]
  },
  {
   "cell_type": "markdown",
   "id": "15abd4e1-7dff-403e-b44f-92b7133340bd",
   "metadata": {},
   "source": [
    "### Fonction getItemDictionary"
   ]
  },
  {
   "cell_type": "code",
   "execution_count": 58,
   "id": "37db6a23-45f7-4a08-857e-c4e68551cbea",
   "metadata": {},
   "outputs": [],
   "source": [
    "def getItemDictionary(dictionary, key):\n",
    "    return dictionary[key]"
   ]
  },
  {
   "cell_type": "code",
   "execution_count": 59,
   "id": "de673aaa-1dc0-4cba-95d9-ffc81f5c0506",
   "metadata": {},
   "outputs": [
    {
     "data": {
      "text/plain": [
       "2850"
      ]
     },
     "execution_count": 59,
     "metadata": {},
     "output_type": "execute_result"
    }
   ],
   "source": [
    "getItemDictionary({\"Charles\": 1500, \"Archimède\": 2850}, \"Archimède\")"
   ]
  },
  {
   "cell_type": "markdown",
   "id": "290fdf18-8883-41bc-a582-2016cda1d8b5",
   "metadata": {
    "tags": []
   },
   "source": [
    "### Fonction postfix"
   ]
  },
  {
   "cell_type": "code",
   "execution_count": 60,
   "id": "1c65b4ac-a6b7-4a13-ac75-2a365e8284b3",
   "metadata": {},
   "outputs": [],
   "source": [
    "def calculate(operator, x, y):\n",
    "    cases = {\n",
    "        \"+\": lambda a, b: a + b,\n",
    "        \"-\": lambda a, b: a - b,\n",
    "        \"*\": lambda a, b: a * b,\n",
    "        \"/\": lambda a, b: a / b,\n",
    "    }\n",
    "    return cases[operator](x, y)\n",
    "\n",
    "\n",
    "def postfix(expression):\n",
    "    res      = 0\n",
    "    stack    = []\n",
    "    elements = re.split(r\"\\s+\", expression)\n",
    "\n",
    "    for elem in elements:\n",
    "        if re.match(r'^[-+\\/*()]$', elem):\n",
    "            op1 = stack.pop()\n",
    "            op2 = stack.pop()\n",
    "            res = calculate(elem, int(op2), int(op1))\n",
    "            stack.append(res)\n",
    "        else:\n",
    "            stack.append(elem)\n",
    "    return res"
   ]
  },
  {
   "cell_type": "code",
   "execution_count": 61,
   "id": "a847f4d6-431b-46f1-8917-8e5e4572db95",
   "metadata": {},
   "outputs": [
    {
     "data": {
      "text/plain": [
       "10"
      ]
     },
     "execution_count": 61,
     "metadata": {},
     "output_type": "execute_result"
    }
   ],
   "source": [
    "postfix(\"2 14 4 - 5 / 3 + *\")"
   ]
  }
 ],
 "metadata": {
  "kernelspec": {
   "display_name": "Python 3 (ipykernel)",
   "language": "python",
   "name": "python3"
  },
  "language_info": {
   "codemirror_mode": {
    "name": "ipython",
    "version": 3
   },
   "file_extension": ".py",
   "mimetype": "text/x-python",
   "name": "python",
   "nbconvert_exporter": "python",
   "pygments_lexer": "ipython3",
   "version": "3.9.13"
  }
 },
 "nbformat": 4,
 "nbformat_minor": 5
}
