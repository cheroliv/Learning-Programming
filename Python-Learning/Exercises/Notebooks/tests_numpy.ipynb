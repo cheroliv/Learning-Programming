{
 "cells": [
  {
   "cell_type": "markdown",
   "id": "2082c383-0c5e-4515-9a33-612d9b397f58",
   "metadata": {},
   "source": [
    "### Tests Numpy.\n",
    "### Auteur : Charles T."
   ]
  },
  {
   "cell_type": "code",
   "execution_count": 1,
   "id": "68572caa-3b91-4222-8acb-3c5ef095987a",
   "metadata": {},
   "outputs": [],
   "source": [
    "%load_ext pycodestyle_magic\n",
    "%pycodestyle_on"
   ]
  },
  {
   "cell_type": "code",
   "execution_count": 2,
   "id": "76b0d8b4-aed8-4d3c-b259-9eb37956f7ff",
   "metadata": {},
   "outputs": [],
   "source": [
    "import numpy as np"
   ]
  },
  {
   "cell_type": "markdown",
   "id": "a7371835-1f77-4743-9525-0c8ed9b252eb",
   "metadata": {},
   "source": [
    "### Matrice et fonction array"
   ]
  },
  {
   "cell_type": "code",
   "execution_count": 3,
   "id": "309d2753-9cb1-4415-b2ad-2ce0bbb0f7f7",
   "metadata": {},
   "outputs": [
    {
     "name": "stdout",
     "output_type": "stream",
     "text": [
      "Matrice A\n",
      "\n",
      "[[1 2]\n",
      " [3 4]]\n",
      "\n",
      "Dimension de A : 2\n",
      "Forme de A     : (2, 2)\n"
     ]
    }
   ],
   "source": [
    "A = np.array(([1, 2], [3, 4]))\n",
    "print('Matrice A\\n\\n{0}\\n'.format(A))\n",
    "print('{0:15}: {1}'.format('Dimension de A', A.ndim))\n",
    "print('{0:15}: {1}'.format('Forme de A', A.shape))"
   ]
  },
  {
   "cell_type": "markdown",
   "id": "f8ab7fb4-75cb-4209-8a09-2f6ad74554dc",
   "metadata": {},
   "source": [
    "### Matrice et module random"
   ]
  },
  {
   "cell_type": "code",
   "execution_count": 4,
   "id": "45b708a0-0e6b-442d-86cb-63cf326dcb25",
   "metadata": {},
   "outputs": [
    {
     "name": "stdout",
     "output_type": "stream",
     "text": [
      "Matrice B\n",
      "\n",
      "[[3 4]\n",
      " [0 3]]\n",
      "\n"
     ]
    }
   ],
   "source": [
    "B = np.random.randint(0, 5, size=(2, 2), dtype=np.uint8)\n",
    "print('Matrice B\\n\\n{0}\\n'.format(B))"
   ]
  },
  {
   "cell_type": "markdown",
   "id": "95a98659-ed6d-40e1-a437-1f0e30ca5ba1",
   "metadata": {},
   "source": [
    "### Matrice et fonction ones"
   ]
  },
  {
   "cell_type": "code",
   "execution_count": 5,
   "id": "f90bf8f3-6768-4815-bf10-d674988366db",
   "metadata": {},
   "outputs": [
    {
     "name": "stdout",
     "output_type": "stream",
     "text": [
      "Matrice C\n",
      "\n",
      "[[1.]\n",
      " [1.]\n",
      " [1.]]\n",
      "\n"
     ]
    }
   ],
   "source": [
    "C = np.ones((3, 1))\n",
    "print('Matrice C\\n\\n{0}\\n'.format(C))"
   ]
  },
  {
   "cell_type": "markdown",
   "id": "cfb6b16c-a5f1-4d9d-83b4-8479c56f6dec",
   "metadata": {
    "tags": []
   },
   "source": [
    "### Matrice et fonctions linspace, reshape"
   ]
  },
  {
   "cell_type": "code",
   "execution_count": 6,
   "id": "54cf5133-f18f-4cef-8d46-e70accad7f13",
   "metadata": {},
   "outputs": [
    {
     "name": "stdout",
     "output_type": "stream",
     "text": [
      "Matrice D\n",
      "\n",
      "[ 0  2  5  7 10]\n",
      "\n",
      "Forme de D: (5,)\n",
      "\n",
      "Matrice D\n",
      "\n",
      "[ 0  2  5  7 10]\n",
      "\n",
      "[[ 0]\n",
      " [ 2]\n",
      " [ 5]\n",
      " [ 7]\n",
      " [10]]\n",
      "\n",
      "Forme de D: (5, 1)\n",
      "\n"
     ]
    }
   ],
   "source": [
    "D = np.linspace(0, 10, 5, dtype=np.int64)\n",
    "print('Matrice D\\n\\n{0}\\n'.format(D))\n",
    "print('Forme de D: {0}\\n'.format(D.shape))\n",
    "D = D.reshape(D.shape[0], 1)\n",
    "print('{0}\\n\\nForme de D: {1}\\n'.format(D, D.shape))"
   ]
  },
  {
   "cell_type": "markdown",
   "id": "7c29a5bb-bf67-4fa6-ab0e-6bf8b835b594",
   "metadata": {
    "tags": []
   },
   "source": [
    "### Matrice et fonction arange"
   ]
  },
  {
   "cell_type": "code",
   "execution_count": 7,
   "id": "0431a6e2-2419-4a9e-84f2-062fc6c7f9f0",
   "metadata": {},
   "outputs": [
    {
     "name": "stdout",
     "output_type": "stream",
     "text": [
      "Matrice E\n",
      "\n",
      "[-10  -8  -6  -4  -2   0   2   4   6   8  10]\n",
      "\n",
      "Forme de E: (11,)\n",
      "\n"
     ]
    }
   ],
   "source": [
    "E = np.arange(-10, 11, 2)\n",
    "print('Matrice E\\n\\n{0}\\n'.format(E))\n",
    "print('Forme de E: {0}\\n'.format(E.shape))"
   ]
  },
  {
   "cell_type": "markdown",
   "id": "c62a3a00-3521-4cee-a9e6-71652863fd20",
   "metadata": {
    "tags": []
   },
   "source": [
    "### Matrice et fonctions concatenate, reshape"
   ]
  },
  {
   "cell_type": "code",
   "execution_count": 8,
   "id": "b35f1262-202f-480f-8582-a846b5c1a310",
   "metadata": {},
   "outputs": [
    {
     "name": "stdout",
     "output_type": "stream",
     "text": [
      "Matrice AB\n",
      "\n",
      "[[1 2 3 4]\n",
      " [3 4 0 3]]\n",
      "\n",
      "Matrice AB\n",
      "\n",
      "[[1 2]\n",
      " [3 4]\n",
      " [3 4]\n",
      " [0 3]]\n"
     ]
    }
   ],
   "source": [
    "AB = np.concatenate((A, B), axis=1)\n",
    "print('Matrice AB\\n\\n{0}\\n'.format(AB))\n",
    "AB = AB.reshape(4, 2)\n",
    "print('Matrice AB\\n\\n{0}'.format(AB))"
   ]
  },
  {
   "cell_type": "markdown",
   "id": "84e4d84e-7bfa-4066-99fd-5326d55d38d7",
   "metadata": {},
   "source": [
    "### Algèbre linéaire"
   ]
  },
  {
   "cell_type": "code",
   "execution_count": 9,
   "id": "4c607e7a-be24-4331-8183-9e17485b8196",
   "metadata": {},
   "outputs": [
    {
     "name": "stdout",
     "output_type": "stream",
     "text": [
      "A + B               \n",
      "\n",
      " [[4 6]\n",
      " [3 7]]\n",
      "\n",
      "A * B               \n",
      "\n",
      " [[ 3 10]\n",
      " [ 9 24]]\n",
      "\n",
      "Transposée de A     \n",
      "\n",
      " [[1 3]\n",
      " [2 4]]\n",
      "\n",
      "Inverse de A        \n",
      "\n",
      " [[-2.   1. ]\n",
      " [ 1.5 -0.5]]\n",
      "\n",
      "Déterminant de A    \n",
      "\n",
      " -2.0000000000000004\n",
      "\n"
     ]
    }
   ],
   "source": [
    "print('{0:20}\\n\\n {1}\\n'.format('A + B', A + B))\n",
    "print('{0:20}\\n\\n {1}\\n'.format('A * B', A.dot(B)))\n",
    "print('{0:20}\\n\\n {1}\\n'.format('Transposée de A', np.transpose(A)))\n",
    "print('{0:20}\\n\\n {1}\\n'.format('Inverse de A', np.linalg.inv(A)))\n",
    "print('{0:20}\\n\\n {1}\\n'.format('Déterminant de A', np.linalg.det(A)))"
   ]
  },
  {
   "cell_type": "markdown",
   "id": "594b25a1-af5e-42c4-aa7b-df90bbdae2a3",
   "metadata": {},
   "source": [
    "### Statistiques"
   ]
  },
  {
   "cell_type": "code",
   "execution_count": 10,
   "id": "d7004c60-9b3b-4e5d-adcf-db04d12ffcc0",
   "metadata": {},
   "outputs": [
    {
     "name": "stdout",
     "output_type": "stream",
     "text": [
      "Matrice S\n",
      "\n",
      "[3 8 9 7 6 5 4 2 1]\n",
      "\n",
      "Matrice S\n",
      "\n",
      "[[3 8 9]\n",
      " [7 6 5]\n",
      " [4 2 1]]\n",
      "\n",
      "Somme des colonnes:                      [14 16 15]\n",
      "\n",
      "Produit des éléments de S:               362880\n",
      "\n",
      "Maximums sur les lignes:                 [9 7 4]\n",
      "\n",
      "Ind max sur les lignes:                  [2 0 0]\n",
      "\n",
      "Maximums sur les colonnes:               [7 8 9]\n",
      "\n",
      "Ind max sur les colonnes:                [1 0 0]\n",
      "\n",
      "Moyenne de la matrice:                   5.0\n",
      "\n",
      "Variance de la matrice:                  6.666666666666667\n",
      "\n",
      "Matrice de corrélation:                 \n",
      "\n",
      " [[ 1.         -0.93325653 -0.98432414]\n",
      " [-0.93325653  1.          0.98198051]\n",
      " [-0.98432414  0.98198051  1.        ]]\n",
      "\n"
     ]
    }
   ],
   "source": [
    "S = np.array([3, 8, 9, 7, 6, 5, 4, 2, 1])\n",
    "print('Matrice S\\n\\n{0}'.format(S))\n",
    "S = S.reshape(3, 3)\n",
    "print('\\nMatrice S\\n\\n{0}\\n'.format(S))\n",
    "\n",
    "print('{0:40} {1}\\n'.format('Somme des colonnes: ', S.sum(axis=0)))\n",
    "print('{0:40} {1}\\n'.format('Produit des éléments de S: ', S.prod()))\n",
    "print('{0:40} {1}\\n'.format('Maximums sur les lignes: ', S.max(axis=1)))\n",
    "print('{0:40} {1}\\n'.format('Ind max sur les lignes: ', S.argmax(axis=1)))\n",
    "print('{0:40} {1}\\n'.format('Maximums sur les colonnes: ', S.max(axis=0)))\n",
    "print('{0:40} {1}\\n'.format('Ind max sur les colonnes: ', S.argmax(axis=0)))\n",
    "print('{0:40} {1}\\n'.format('Moyenne de la matrice: ', S.mean()))\n",
    "print('{0:40} {1}\\n'.format('Variance de la matrice: ', S.var()))\n",
    "print('{0:40}\\n\\n {1}\\n'.format('Matrice de corrélation: ', np.corrcoef(S)))"
   ]
  }
 ],
 "metadata": {
  "kernelspec": {
   "display_name": "Python 3 (ipykernel)",
   "language": "python",
   "name": "python3"
  },
  "language_info": {
   "codemirror_mode": {
    "name": "ipython",
    "version": 3
   },
   "file_extension": ".py",
   "mimetype": "text/x-python",
   "name": "python",
   "nbconvert_exporter": "python",
   "pygments_lexer": "ipython3",
   "version": "3.9.13"
  }
 },
 "nbformat": 4,
 "nbformat_minor": 5
}
